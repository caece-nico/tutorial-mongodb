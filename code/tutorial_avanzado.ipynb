{
 "cells": [
  {
   "cell_type": "code",
   "execution_count": 27,
   "metadata": {},
   "outputs": [],
   "source": [
    "import os\n",
    "import pprint\n",
    "from pymongo import MongoClient\n",
    "import dotenv\n",
    "from datetime import datetime as dt\n"
   ]
  },
  {
   "cell_type": "markdown",
   "metadata": {},
   "source": [
    "1. Generamos la conexion a MongoDB"
   ]
  },
  {
   "cell_type": "code",
   "execution_count": 8,
   "metadata": {},
   "outputs": [
    {
     "name": "stdout",
     "output_type": "stream",
     "text": [
      "['admin', 'config', 'local', 'miDB']\n"
     ]
    }
   ],
   "source": [
    "dotenv.load_dotenv(dotenv.find_dotenv())\n",
    "PORT = os.environ.get('MONGO_PORT')\n",
    "\n",
    "string_mongo = f\"mongodb://localhost:27017\"\n",
    "\n",
    "mongodm = MongoClient(string_mongo)\n",
    "\n",
    "print(mongodm.list_database_names())\n"
   ]
  },
  {
   "cell_type": "markdown",
   "metadata": {},
   "source": [
    "1.2 Creamos una nueva BD __production__ y le creamos dos colecciones __books__ y __authors__"
   ]
  },
  {
   "cell_type": "code",
   "execution_count": 20,
   "metadata": {},
   "outputs": [
    {
     "name": "stdout",
     "output_type": "stream",
     "text": [
      "collection Book already exists\n"
     ]
    }
   ],
   "source": [
    "mongodm.get_database('production')\n",
    "production = mongodm.get_database('production')\n",
    "\n",
    "try:\n",
    "    production.create_collection(\"Book\")\n",
    "    production.create_collection(\"Author\")\n",
    "except Exception as e:\n",
    "    print(e)"
   ]
  },
  {
   "cell_type": "markdown",
   "metadata": {},
   "source": [
    "1.3 Definimos el esquema para __book__ y modificamos la coleccion."
   ]
  },
  {
   "cell_type": "code",
   "execution_count": 17,
   "metadata": {},
   "outputs": [],
   "source": [
    "book_validator = {\n",
    "    \"$jsonSchema\":{\n",
    "        \"bsonType\":\"object\",\n",
    "        \"required\":[\"title\", \"authors\", \"publish_date\", \"type\", \"copies\"],\n",
    "        \"properties\":{\n",
    "            \"title\":{\n",
    "                \"bsonType\": \"string\",\n",
    "                \"description\": \"must be a string and is required\"\n",
    "            },\n",
    "            \"authors\":{\n",
    "                \"bsonType\": \"array\",\n",
    "                \"items\": {\n",
    "                    \"bsonType\": \"objectId\",\n",
    "                    \"description\": \"must be an objectId and is required\"\n",
    "                }\n",
    "            },\n",
    "            \"published_date\": {\n",
    "                \"bsonType\": \"date\",\n",
    "                \"description\": \"must be a date and is required\"\n",
    "            },\n",
    "            \"type\": {\n",
    "                \"enum\": [\"Fiction\", \"Non-Fiction\"],\n",
    "                \"description\": \"can only be one of the enum values and its required\"\n",
    "            },\n",
    "            \"copies\": {\n",
    "                \"bsonType\": \"int\",\n",
    "                \"minimum\": 0,\n",
    "                \"description\": \"should be greather than 0 and is required\"\n",
    "            }\n",
    "\n",
    "        }\n",
    "    }\n",
    "}"
   ]
  },
  {
   "cell_type": "code",
   "execution_count": 18,
   "metadata": {},
   "outputs": [
    {
     "data": {
      "text/plain": [
       "{'ok': 1.0}"
      ]
     },
     "execution_count": 18,
     "metadata": {},
     "output_type": "execute_result"
    }
   ],
   "source": [
    "production.command(\"collMod\", \"Book\", validator=book_validator)"
   ]
  },
  {
   "cell_type": "markdown",
   "metadata": {},
   "source": [
    "1.4 Definimos el esquema para __author__ y modificamos la coleccion."
   ]
  },
  {
   "cell_type": "code",
   "execution_count": 30,
   "metadata": {},
   "outputs": [],
   "source": [
    "author_validator={\n",
    "    \"$jsonSchema\":{\n",
    "        \"bsonType\":\"object\",\n",
    "        \"required\":[\"first_name\", \"last_name\", \"date_of_birth\"],\n",
    "        \"properties\":{\n",
    "            \"first_name\":{\n",
    "                \"bsonType\": \"string\",\n",
    "                \"description\": \"must be a string and is required\"\n",
    "            },\n",
    "            \"last_name\":{\n",
    "                \"bsonType\": \"string\",\n",
    "                \"description\": \"must be a string and is required\"\n",
    "            },\n",
    "            \"date_of_birth\": {\n",
    "                \"bsonType\": \"date\",\n",
    "                \"description\": \"must be a date and is required\"\n",
    "            },\n",
    "        }\n",
    "    }\n",
    "}"
   ]
  },
  {
   "cell_type": "code",
   "execution_count": 31,
   "metadata": {},
   "outputs": [
    {
     "data": {
      "text/plain": [
       "{'ok': 1.0}"
      ]
     },
     "execution_count": 31,
     "metadata": {},
     "output_type": "execute_result"
    }
   ],
   "source": [
    "production.command(\"collMod\", \"Author\", validator=author_validator)"
   ]
  },
  {
   "cell_type": "markdown",
   "metadata": {},
   "source": [
    "2.1 Insertamos datos en ambas colecciones usando __bulk_insert__"
   ]
  },
  {
   "cell_type": "code",
   "execution_count": 34,
   "metadata": {},
   "outputs": [],
   "source": [
    "def create_data():\n",
    "    authors = [\n",
    "        {\n",
    "            \"first_name\": \"Nicolas\",\n",
    "            \"last_name\": \"leali\",\n",
    "            \"date_of_birth\": dt(1988, 4,1)\n",
    "        },\n",
    "        {\n",
    "            \"first_name\": \"George\",\n",
    "            \"last_name\": \"Orwell\",\n",
    "            \"date_of_birth\": dt(1903, 6,25)\n",
    "        },\n",
    "        {\n",
    "            \"first_name\": \"Herman\",\n",
    "            \"last_name\": \"Melville\",\n",
    "            \"date_of_birth\": dt(1818, 8,1)\n",
    "        },\n",
    "        {\n",
    "            \"first_name\": \"F. Scott\",\n",
    "            \"last_name\": \"Fitzgerald\",\n",
    "            \"date_of_birth\": dt(1896, 9,24)\n",
    "        }\n",
    "    ]\n",
    "    \n",
    "    authors_collection = production.get_collection('Author')\n",
    "    authors = authors_collection.insert_many(authors).inserted_ids\n",
    "    \n",
    "    books = [\n",
    "        {\n",
    "            \"title\": \"MondoDB Advanced Tutorial\",\n",
    "            \"authors\": [authors[0]],\n",
    "            \"publish_date\": dt.today(),\n",
    "            \"type\": \"Non-Fiction\",\n",
    "            \"copies\": 5\n",
    "        },\n",
    "        {\n",
    "            \"title\": \"Python for Dummies\",\n",
    "            \"authors\": [authors[0]],\n",
    "            \"publish_date\": dt(2022,1,27),\n",
    "            \"type\": \"Non-Fiction\",\n",
    "            \"copies\": 5\n",
    "        },\n",
    "        {\n",
    "            \"title\": \"Nineteen Eigthy-Four\",\n",
    "            \"authors\": [authors[1]],\n",
    "            \"publish_date\": dt(1949,6,8),\n",
    "            \"type\": \"Fiction\",\n",
    "            \"copies\": 5\n",
    "        },\n",
    "        {\n",
    "            \"title\": \"The Great Gatsby\",\n",
    "            \"authors\": [authors[3]],\n",
    "            \"publish_date\": dt(2013,5,23),\n",
    "            \"type\": \"Fiction\",\n",
    "            \"copies\": 5\n",
    "        },\n",
    "          {\n",
    "            \"title\": \"Moby Dick\",\n",
    "            \"authors\": [authors[2]],\n",
    "            \"publish_date\": dt(1851,9,24),\n",
    "            \"type\": \"Fiction\",\n",
    "            \"copies\": 5\n",
    "        }\n",
    "    ]\n",
    "    \n",
    "    book_collection = production.get_collection('Book')\n",
    "    book_collection.insert_many(books)"
   ]
  },
  {
   "cell_type": "code",
   "execution_count": 35,
   "metadata": {},
   "outputs": [],
   "source": [
    "#create_data()"
   ]
  },
  {
   "cell_type": "markdown",
   "metadata": {},
   "source": [
    "3.1 Usamos __regex__ para buscar los titulos que contienen al menos una __A__"
   ]
  },
  {
   "cell_type": "code",
   "execution_count": 41,
   "metadata": {},
   "outputs": [
    {
     "name": "stdout",
     "output_type": "stream",
     "text": [
      "[{'_id': ObjectId('65dd2af305ee172005884912'),\n",
      "  'authors': [ObjectId('65dd2af305ee17200588490e')],\n",
      "  'copies': 5,\n",
      "  'publish_date': datetime.datetime(2024, 2, 26, 21, 21, 7, 176000),\n",
      "  'title': 'MondoDB Advanced Tutorial',\n",
      "  'type': 'Non-Fiction'},\n",
      " {'_id': ObjectId('65dd2af305ee172005884915'),\n",
      "  'authors': [ObjectId('65dd2af305ee172005884911')],\n",
      "  'copies': 5,\n",
      "  'publish_date': datetime.datetime(2013, 5, 23, 0, 0),\n",
      "  'title': 'The Great Gatsby',\n",
      "  'type': 'Fiction'}]\n"
     ]
    }
   ],
   "source": [
    "def contiene_una_a():\n",
    "    printer = pprint.PrettyPrinter()\n",
    "    \n",
    "    books_collection = production.get_collection('Book')\n",
    "    titulos = books_collection.find({\"title\":{\"$regex\": \"a{1}\"}})\n",
    "    printer.pprint(list(titulos))\n",
    "    \n",
    "contiene_una_a()"
   ]
  },
  {
   "cell_type": "markdown",
   "metadata": {},
   "source": [
    "3.2 Obtenemos todos los libros escritos por los autores."
   ]
  },
  {
   "cell_type": "code",
   "execution_count": 46,
   "metadata": {},
   "outputs": [
    {
     "name": "stdout",
     "output_type": "stream",
     "text": [
      "[{'_id': ObjectId('65dd2af305ee17200588490e'),\n",
      "  'books': [{'_id': ObjectId('65dd2af305ee172005884912'),\n",
      "             'authors': [ObjectId('65dd2af305ee17200588490e')],\n",
      "             'copies': 5,\n",
      "             'publish_date': datetime.datetime(2024, 2, 26, 21, 21, 7, 176000),\n",
      "             'title': 'MondoDB Advanced Tutorial',\n",
      "             'type': 'Non-Fiction'},\n",
      "            {'_id': ObjectId('65dd2af305ee172005884913'),\n",
      "             'authors': [ObjectId('65dd2af305ee17200588490e')],\n",
      "             'copies': 5,\n",
      "             'publish_date': datetime.datetime(2022, 1, 27, 0, 0),\n",
      "             'title': 'Python for Dummies',\n",
      "             'type': 'Non-Fiction'}],\n",
      "  'date_of_birth': datetime.datetime(1988, 4, 1, 0, 0),\n",
      "  'first_name': 'Nicolas',\n",
      "  'last_name': 'leali'},\n",
      " {'_id': ObjectId('65dd2af305ee17200588490f'),\n",
      "  'books': [{'_id': ObjectId('65dd2af305ee172005884914'),\n",
      "             'authors': [ObjectId('65dd2af305ee17200588490f')],\n",
      "             'copies': 5,\n",
      "             'publish_date': datetime.datetime(1949, 6, 8, 0, 0),\n",
      "             'title': 'Nineteen Eigthy-Four',\n",
      "             'type': 'Fiction'}],\n",
      "  'date_of_birth': datetime.datetime(1903, 6, 25, 0, 0),\n",
      "  'first_name': 'George',\n",
      "  'last_name': 'Orwell'},\n",
      " {'_id': ObjectId('65dd2af305ee172005884910'),\n",
      "  'books': [{'_id': ObjectId('65dd2af305ee172005884916'),\n",
      "             'authors': [ObjectId('65dd2af305ee172005884910')],\n",
      "             'copies': 5,\n",
      "             'publish_date': datetime.datetime(1851, 9, 24, 0, 0),\n",
      "             'title': 'Moby Dick',\n",
      "             'type': 'Fiction'}],\n",
      "  'date_of_birth': datetime.datetime(1818, 8, 1, 0, 0),\n",
      "  'first_name': 'Herman',\n",
      "  'last_name': 'Melville'},\n",
      " {'_id': ObjectId('65dd2af305ee172005884911'),\n",
      "  'books': [{'_id': ObjectId('65dd2af305ee172005884915'),\n",
      "             'authors': [ObjectId('65dd2af305ee172005884911')],\n",
      "             'copies': 5,\n",
      "             'publish_date': datetime.datetime(2013, 5, 23, 0, 0),\n",
      "             'title': 'The Great Gatsby',\n",
      "             'type': 'Fiction'}],\n",
      "  'date_of_birth': datetime.datetime(1896, 9, 24, 0, 0),\n",
      "  'first_name': 'F. Scott',\n",
      "  'last_name': 'Fitzgerald'}]\n"
     ]
    }
   ],
   "source": [
    "printer = pprint.PrettyPrinter()\n",
    "authors_collection = production.get_collection('Author')\n",
    "\n",
    "authors_and_books = authors_collection.aggregate([{\n",
    "    \"$lookup\":{\n",
    "        \"from\": \"Book\",\n",
    "        \"localField\": \"_id\",\n",
    "        \"foreignField\": \"authors\",\n",
    "        \"as\": \"books\"\n",
    "    }\n",
    "}])\n",
    "\n",
    "printer.pprint(list(authors_and_books))"
   ]
  },
  {
   "cell_type": "markdown",
   "metadata": {},
   "source": [
    "3.3 Obtenemos la cantidad de libros por autor"
   ]
  },
  {
   "cell_type": "code",
   "execution_count": 62,
   "metadata": {},
   "outputs": [
    {
     "name": "stdout",
     "output_type": "stream",
     "text": [
      "[{'first_name': 'Nicolas', 'last_name': 'leali', 'total_libros': 2},\n",
      " {'first_name': 'George', 'last_name': 'Orwell', 'total_libros': 1},\n",
      " {'first_name': 'Herman', 'last_name': 'Melville', 'total_libros': 1},\n",
      " {'first_name': 'F. Scott', 'last_name': 'Fitzgerald', 'total_libros': 1}]\n"
     ]
    }
   ],
   "source": [
    "printer = pprint.PrettyPrinter()\n",
    "count_books_by_author = authors_collection.aggregate(\n",
    "    [ # lista\n",
    "    { # primer pipeline left-join\n",
    "        \"$lookup\":{\n",
    "            \"from\": \"Book\",\n",
    "            \"localField\": \"_id\",\n",
    "            \"foreignField\": \"authors\",\n",
    "            \"as\": \"books\"\n",
    "        }\n",
    "    },\n",
    "    { # segundo pipeline - count\n",
    "        \"$addFields\":{\n",
    "            \"total_libros\":{\"$size\":\"$books\"}\n",
    "        }\n",
    "    },\n",
    "    { # tercer pipeline - muestra\n",
    "        \"$project\":{\n",
    "            \"first_name\":1, \"last_name\":1, \"total_libros\":1, \"_id\":0\n",
    "        }\n",
    "    }\n",
    "])\n",
    "\n",
    "printer.pprint(list(count_books_by_author))"
   ]
  },
  {
   "cell_type": "markdown",
   "metadata": {},
   "source": [
    "3.4 Mostramos los libros cuyos autores estén entre cierto rango de edad."
   ]
  },
  {
   "cell_type": "code",
   "execution_count": 75,
   "metadata": {},
   "outputs": [
    {
     "name": "stdout",
     "output_type": "stream",
     "text": [
      "[{'_id': ObjectId('65dd2af305ee172005884912'),\n",
      "  'authors': [ObjectId('65dd2af305ee17200588490e')],\n",
      "  'autores': [{'age': 36, 'first_name': 'Nicolas', 'last_name': 'leali'}],\n",
      "  'copies': 5,\n",
      "  'publish_date': datetime.datetime(2024, 2, 26, 21, 21, 7, 176000),\n",
      "  'title': 'MondoDB Advanced Tutorial',\n",
      "  'type': 'Non-Fiction'},\n",
      " {'_id': ObjectId('65dd2af305ee172005884913'),\n",
      "  'authors': [ObjectId('65dd2af305ee17200588490e')],\n",
      "  'autores': [{'age': 36, 'first_name': 'Nicolas', 'last_name': 'leali'}],\n",
      "  'copies': 5,\n",
      "  'publish_date': datetime.datetime(2022, 1, 27, 0, 0),\n",
      "  'title': 'Python for Dummies',\n",
      "  'type': 'Non-Fiction'}]\n"
     ]
    }
   ],
   "source": [
    "printer = pprint.PrettyPrinter()\n",
    "book_collection = production.get_collection('Book')\n",
    "books_and_authors_by_age = book_collection.aggregate(\n",
    "    [ # Lista del pipeline\n",
    "     { # pipeline 1 - lookup\n",
    "      \n",
    "        \"$lookup\":{\n",
    "            \"from\": \"Author\",\n",
    "            \"localField\": \"authors\",\n",
    "            \"foreignField\": \"_id\",\n",
    "            \"as\": \"autores\"\n",
    "        }\n",
    "         \n",
    "     },\n",
    "     { # pipeline 2 - set edad\n",
    "      \n",
    "      \"$set\":{\n",
    "          \"autores\":{\n",
    "              \"$map\":{\n",
    "                  \"input\": \"$autores\",\n",
    "                  \"in\": {\n",
    "                      \"age\":{\n",
    "                          \"$dateDiff\":{\n",
    "                              \"startDate\": \"$$this.date_of_birth\",\n",
    "                              \"endDate\": \"$$NOW\",\n",
    "                              \"unit\": \"year\"\n",
    "                          }\n",
    "                      },\n",
    "                      \"first_name\":\"$$this.first_name\",\n",
    "                      \"last_name\": \"$$this.last_name\"\n",
    "                  }\n",
    "              }\n",
    "          }\n",
    "      }\n",
    "          \n",
    "         \n",
    "     },\n",
    "     \n",
    "     { # piplene 3 - filtrar por cierta edad\n",
    "      \n",
    "      \"$match\": {\n",
    "          \"$and\": [\n",
    "              {\"autores.age\": {\"$gte\":18}},\n",
    "              {\"autores.age\": {\"$lte\":100}}\n",
    "          ]\n",
    "      }\n",
    "         \n",
    "     },\n",
    "     {# pipeline 4 - sort by age\n",
    "      \n",
    "      \"$sort\":{\n",
    "          \"age\":1\n",
    "            }\n",
    "         \n",
    "     }\n",
    "]\n",
    "    )\n",
    "\n",
    "printer.pprint(list(books_and_authors_by_age))"
   ]
  }
 ],
 "metadata": {
  "kernelspec": {
   "display_name": "Python 3",
   "language": "python",
   "name": "python3"
  },
  "language_info": {
   "codemirror_mode": {
    "name": "ipython",
    "version": 3
   },
   "file_extension": ".py",
   "mimetype": "text/x-python",
   "name": "python",
   "nbconvert_exporter": "python",
   "pygments_lexer": "ipython3",
   "version": "3.10.12"
  }
 },
 "nbformat": 4,
 "nbformat_minor": 2
}
