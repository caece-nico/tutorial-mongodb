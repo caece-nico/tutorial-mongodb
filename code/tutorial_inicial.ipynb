{
 "cells": [
  {
   "cell_type": "code",
   "execution_count": 1,
   "metadata": {},
   "outputs": [],
   "source": [
    "from dotenv import load_dotenv, find_dotenv\n",
    "from pymongo import MongoClient\n",
    "import os\n",
    "import pprint"
   ]
  },
  {
   "cell_type": "markdown",
   "metadata": {},
   "source": [
    "1. Cargamos las variables que contienen la informacion del Logeo"
   ]
  },
  {
   "cell_type": "code",
   "execution_count": 2,
   "metadata": {},
   "outputs": [],
   "source": [
    "load_dotenv(find_dotenv())\n",
    "PUERTO = os.environ.get('MONGO_PORT')"
   ]
  },
  {
   "cell_type": "markdown",
   "metadata": {},
   "source": [
    "2. Creamos la conexion a MongoDB y listamos las BD"
   ]
  },
  {
   "cell_type": "code",
   "execution_count": 3,
   "metadata": {},
   "outputs": [
    {
     "name": "stdout",
     "output_type": "stream",
     "text": [
      "['admin', 'config', 'local', 'miDB']\n"
     ]
    }
   ],
   "source": [
    "client = MongoClient(f\"mongodb://localhost:{PUERTO}\")\n",
    "print(client.list_database_names())"
   ]
  },
  {
   "cell_type": "markdown",
   "metadata": {},
   "source": [
    "3. Trabajar con una BD especifica"
   ]
  },
  {
   "cell_type": "code",
   "execution_count": 4,
   "metadata": {},
   "outputs": [],
   "source": [
    "miDB = client.get_database('miDB')\n",
    "#print(list(miDB.list_collections()))\n",
    "#print(miDB.list_collection_names())"
   ]
  },
  {
   "cell_type": "markdown",
   "metadata": {},
   "source": [
    "4. INSERT \n",
    "\n",
    "Ejemplo de INSERT de un documento dentro de una collection"
   ]
  },
  {
   "cell_type": "markdown",
   "metadata": {},
   "source": [
    "4.1 Insert One"
   ]
  },
  {
   "cell_type": "code",
   "execution_count": 26,
   "metadata": {},
   "outputs": [
    {
     "name": "stdout",
     "output_type": "stream",
     "text": [
      "65dc983183484190e2657086\n"
     ]
    }
   ],
   "source": [
    "def insert_test_doc():\n",
    "    collection = miDB.alumnos\n",
    "    test_doc = {\n",
    "        \"name\":\"Nicolas\",\n",
    "        \"type\":\"Test\"\n",
    "    }\n",
    "    insert_id = collection.insert_one(test_doc).inserted_id\n",
    "    print(insert_id)\n",
    "\n",
    "insert_test_doc()"
   ]
  },
  {
   "cell_type": "markdown",
   "metadata": {},
   "source": [
    "4.2 Insert Many"
   ]
  },
  {
   "cell_type": "code",
   "execution_count": 35,
   "metadata": {},
   "outputs": [],
   "source": [
    "def create_document():\n",
    "    collection = miDB.alumnos\n",
    "    nombre = ['Nicolas', 'Martin', 'Alejandro', 'Patricio']\n",
    "    edad = [36,35,35,36]\n",
    "    apellido = ['Leali','Caronte','Francolino','Perez']\n",
    "\n",
    "    array = []\n",
    "    for nombre, edad, apellido in zip(nombre, edad, apellido):\n",
    "        doc = {'nombre':nombre, 'apellido':apellido, 'edad':edad}\n",
    "        array.append(doc)\n",
    "    \n",
    "    collection.insert_many(array)\n",
    "    \n",
    "create_document()"
   ]
  },
  {
   "cell_type": "markdown",
   "metadata": {},
   "source": [
    "5. SELECT"
   ]
  },
  {
   "cell_type": "markdown",
   "metadata": {},
   "source": [
    "5.1 .find()\n",
    "\n",
    "Busca todos los registros"
   ]
  },
  {
   "cell_type": "code",
   "execution_count": 8,
   "metadata": {},
   "outputs": [
    {
     "name": "stdout",
     "output_type": "stream",
     "text": [
      "{'_id': ObjectId('65da4b127579225f818ad35a'), 'edad': 36, 'name': 'nicolas'}\n",
      "{'_id': ObjectId('65dc982b83484190e2657085'), 'name': 'Nicolas', 'type': 'Test'}\n",
      "{'_id': ObjectId('65dc983183484190e2657086'), 'name': 'Nicolas', 'type': 'Test'}\n",
      "{'_id': ObjectId('65dc9ec083484190e2657087'),\n",
      " 'apellido': 'Leali',\n",
      " 'edad': 36,\n",
      " 'nombre': 'Nicolas'}\n",
      "{'_id': ObjectId('65dc9ec083484190e2657088'),\n",
      " 'apellido': 'Caronte',\n",
      " 'edad': 35,\n",
      " 'nombre': 'Martin'}\n",
      "{'_id': ObjectId('65dc9ec083484190e2657089'),\n",
      " 'apellido': 'Francolino',\n",
      " 'edad': 35,\n",
      " 'nombre': 'Alejandro'}\n",
      "{'_id': ObjectId('65dc9ec083484190e265708a'),\n",
      " 'apellido': 'Perez',\n",
      " 'edad': 36,\n",
      " 'nombre': 'Patricio'}\n"
     ]
    }
   ],
   "source": [
    "printer = pprint.PrettyPrinter()\n",
    "\n",
    "def find_all_people():\n",
    "    collection = miDB.alumnos\n",
    "    people = collection.find()\n",
    "    \n",
    "    for person in people:\n",
    "        printer.pprint(person)\n",
    "    \n",
    "find_all_people()"
   ]
  },
  {
   "cell_type": "markdown",
   "metadata": {},
   "source": [
    "5.2 fin_one()\n",
    "\n",
    "Lo usamos para encontrar un documento que cumple con el criterio de busqueda. Solo trae el primero."
   ]
  },
  {
   "cell_type": "code",
   "execution_count": 14,
   "metadata": {},
   "outputs": [
    {
     "name": "stdout",
     "output_type": "stream",
     "text": [
      "{'_id': ObjectId('65dc9ec083484190e2657087'),\n",
      " 'apellido': 'Leali',\n",
      " 'edad': 36,\n",
      " 'nombre': 'Nicolas'}\n"
     ]
    }
   ],
   "source": [
    "printer = pprint.PrettyPrinter()\n",
    "def find_nicolas():\n",
    "    collection = miDB.alumnos\n",
    "    nicolas = collection.find_one({'nombre':'Nicolas', 'edad':36})\n",
    "    printer.pprint(nicolas)\n",
    "    \n",
    "find_nicolas()"
   ]
  },
  {
   "cell_type": "markdown",
   "metadata": {},
   "source": [
    "5.3 Count"
   ]
  },
  {
   "cell_type": "code",
   "execution_count": 18,
   "metadata": {},
   "outputs": [
    {
     "name": "stdout",
     "output_type": "stream",
     "text": [
      "7\n"
     ]
    }
   ],
   "source": [
    "def count_numero_of_people():\n",
    "    collection = miDB.alumnos\n",
    "    total = collection.count_documents(filter={})\n",
    "    print(total)\n",
    "    \n",
    "count_numero_of_people()"
   ]
  },
  {
   "cell_type": "markdown",
   "metadata": {},
   "source": [
    "5.4 Select by ID"
   ]
  },
  {
   "cell_type": "code",
   "execution_count": 28,
   "metadata": {},
   "outputs": [
    {
     "name": "stdout",
     "output_type": "stream",
     "text": [
      "{'_id': ObjectId('65dc9ec083484190e2657088'),\n",
      " 'apellido': 'Caronte',\n",
      " 'edad': 35,\n",
      " 'nombre': 'Martin'}\n"
     ]
    }
   ],
   "source": [
    "printer = pprint.PrettyPrinter()\n",
    "\n",
    "def get_person_by_id(id_person):\n",
    "    collection = miDB.alumnos\n",
    "    from bson.objectid import ObjectId\n",
    "\n",
    "    _id = ObjectId(id_person)\n",
    "\n",
    "    person = collection.find_one({'_id':_id})\n",
    "    printer.pprint(person)\n",
    "    \n",
    "get_person_by_id('65dc9ec083484190e2657088')  "
   ]
  },
  {
   "cell_type": "code",
   "execution_count": 48,
   "metadata": {},
   "outputs": [
    {
     "name": "stdout",
     "output_type": "stream",
     "text": [
      "{'_id': ObjectId('65dc9ec083484190e2657088'),\n",
      " 'apellido': 'Caronte',\n",
      " 'edad': 35,\n",
      " 'nombre': 'Martin'}\n",
      "{'_id': ObjectId('65dc9ec083484190e2657089'),\n",
      " 'apellido': 'Francolino',\n",
      " 'edad': 35,\n",
      " 'nombre': 'Alejandro'}\n",
      "{'_id': ObjectId('65da4b127579225f818ad35a'), 'edad': 36, 'name': 'nicolas'}\n",
      "{'_id': ObjectId('65dc9ec083484190e2657087'),\n",
      " 'apellido': 'Leali',\n",
      " 'edad': 36,\n",
      " 'nombre': 'Nicolas'}\n",
      "{'_id': ObjectId('65dc9ec083484190e265708a'),\n",
      " 'apellido': 'Perez',\n",
      " 'edad': 36,\n",
      " 'nombre': 'Patricio'}\n"
     ]
    }
   ],
   "source": [
    "printer = pprint.PrettyPrinter()\n",
    "def get_people_by_age(min_age, max_age):\n",
    "    collection = miDB.alumnos\n",
    "    query = {\n",
    "            \"$and\":\n",
    "            [\n",
    "                {\"edad\":{\"$gte\":min_age}},\n",
    "                {\"edad\":{\"$lte\":max_age}}\n",
    "            ]\n",
    "        }\n",
    "\n",
    "    people = collection.find(query).sort(\"edad\")\n",
    "    for person in people:\n",
    "        printer.pprint(person)\n",
    "\n",
    "get_people_by_age(34,36)"
   ]
  },
  {
   "cell_type": "markdown",
   "metadata": {},
   "source": [
    "5.5 Mostrar solo algunas columnas."
   ]
  },
  {
   "cell_type": "code",
   "execution_count": 51,
   "metadata": {},
   "outputs": [
    {
     "name": "stdout",
     "output_type": "stream",
     "text": [
      "{'edad': 36}\n",
      "{}\n",
      "{}\n",
      "{'edad': 36, 'nombre': 'Nicolas'}\n",
      "{'edad': 35, 'nombre': 'Martin'}\n",
      "{'edad': 35, 'nombre': 'Alejandro'}\n",
      "{'edad': 36, 'nombre': 'Patricio'}\n"
     ]
    }
   ],
   "source": [
    "printer = pprint.PrettyPrinter()\n",
    "\n",
    "def show_only_columns():\n",
    "    columnas = {'_id':0, 'nombre':1, 'edad': 1}\n",
    "    collection = miDB.alumnos\n",
    "\n",
    "    personas = collection.find({}, columnas) \n",
    "\n",
    "    for persona in personas:\n",
    "        printer.pprint(persona)\n",
    "\n",
    "show_only_columns()"
   ]
  },
  {
   "cell_type": "markdown",
   "metadata": {},
   "source": [
    "6. Update"
   ]
  },
  {
   "cell_type": "markdown",
   "metadata": {},
   "source": [
    "6.1 Update\n",
    "\n",
    "Agregamos un nuevo campo, incrementamos la edad y cambiamos el nombre de una columna"
   ]
  },
  {
   "cell_type": "code",
   "execution_count": 56,
   "metadata": {},
   "outputs": [],
   "source": [
    "printer = pprint.PrettyPrinter()\n",
    "\n",
    "def update_persona_by_id(id_per):\n",
    "    from bson.objectid import ObjectId\n",
    "\n",
    "    collection = miDB.alumnos\n",
    "\n",
    "    sql = {\n",
    "        \"$set\":{\"new_field\":True},\n",
    "        \"$inc\":{\"edad\":10},\n",
    "        \"$rename\":{\"apellido\":\"last_name\"}\n",
    "    }\n",
    "\n",
    "    _id = ObjectId(id_per)\n",
    "\n",
    "    collection.update_one({\"_id\":_id}, sql)\n",
    "\n",
    "update_persona_by_id('65dc9ec083484190e2657089')"
   ]
  },
  {
   "cell_type": "markdown",
   "metadata": {},
   "source": [
    "6.2 Update  - delete one field\n",
    "\n",
    "Usamos __$unset__ para eliminar un campo de un documento"
   ]
  },
  {
   "cell_type": "code",
   "execution_count": 62,
   "metadata": {},
   "outputs": [],
   "source": [
    "printer = pprint.PrettyPrinter()\n",
    "\n",
    "def update_persona_by_id(id_per):\n",
    "    from bson.objectid import ObjectId\n",
    "\n",
    "    _id = ObjectId(id_per)\n",
    "\n",
    "    sql = {\n",
    "        \"$unset\":{'new_field':''}\n",
    "    }\n",
    "\n",
    "    collection = miDB.alumnos\n",
    "\n",
    "    collection.update_one({'_id':_id}, sql)\n",
    "\n",
    "update_persona_by_id('65dc9ec083484190e2657089')"
   ]
  },
  {
   "cell_type": "markdown",
   "metadata": {},
   "source": [
    "6.3 Update - Replace\n",
    "\n",
    "Usamos replace cuando queremos conservar el _id pero cambiar todos los datos del documento"
   ]
  },
  {
   "cell_type": "code",
   "execution_count": 63,
   "metadata": {},
   "outputs": [],
   "source": [
    "printer = pprint.PrettyPrinter()\n",
    "def update_replace_persona(id_per):\n",
    "    from bson.objectid import ObjectId\n",
    "\n",
    "    _id = ObjectId(id_per)\n",
    "\n",
    "    doc = {\n",
    "        'Nombre':'Alejandro',\n",
    "        'Apellido':'Francolino y Aguero',\n",
    "        'Edad':37\n",
    "    }\n",
    "    \n",
    "    collection = miDB.alumnos\n",
    "\n",
    "    collection.replace_one({'_id':_id}, doc)\n",
    "\n",
    "update_replace_persona('65dc9ec083484190e2657089') "
   ]
  },
  {
   "cell_type": "markdown",
   "metadata": {},
   "source": [
    "7. DELETE"
   ]
  },
  {
   "cell_type": "code",
   "execution_count": 64,
   "metadata": {},
   "outputs": [],
   "source": [
    "printer = pprint.PrettyPrinter()\n",
    "\n",
    "def delete_by_id(per_id):\n",
    "    from bson.objectid import ObjectId\n",
    "    \n",
    "    _id = ObjectId(per_id)\n",
    "    \n",
    "    collection = miDB.alumnos\n",
    "    \n",
    "    collection.delete_one({'_id':_id})\n",
    "    \n",
    "delete_by_id('65dc9ec083484190e2657089')"
   ]
  },
  {
   "cell_type": "markdown",
   "metadata": {},
   "source": [
    "8. RELACIONES en MongoDB"
   ]
  },
  {
   "cell_type": "markdown",
   "metadata": {},
   "source": [
    "8.1 Embedings"
   ]
  },
  {
   "cell_type": "code",
   "execution_count": 71,
   "metadata": {},
   "outputs": [],
   "source": [
    "mi_dict = {\n",
    "                \"street\": \"calle 01\",\n",
    "                \"numero\": 4567,\n",
    "                \"city\": \"CABA\",\n",
    "                \"zip\": 5643\n",
    "            }\n",
    "\n",
    "def add_address_embed(id_pers, address):\n",
    "    from bson.objectid import ObjectId\n",
    "\n",
    "    _id = ObjectId(id_pers)\n",
    "\n",
    "    collection = miDB.alumnos\n",
    "\n",
    "    SQL = {\n",
    "            \"$addToSet\": {'addresses':address}\n",
    "            }\n",
    "\n",
    "    collection.update_one({\"_id\":_id}, SQL)\n",
    "\n",
    "add_address_embed('65dc9ec083484190e265708a', mi_dict)"
   ]
  },
  {
   "cell_type": "markdown",
   "metadata": {},
   "source": [
    "8.2 Foreign Keys"
   ]
  },
  {
   "cell_type": "code",
   "execution_count": 72,
   "metadata": {},
   "outputs": [],
   "source": [
    "address = {\n",
    "                \"street\": \"calle 01\",\n",
    "                \"numero\": 4567,\n",
    "                \"city\": \"CABA\",\n",
    "                \"zip\": 5643\n",
    "            }\n",
    "\n",
    "def add_address_relation(per_id, address):\n",
    "    from bson.objectid import ObjectId\n",
    "\n",
    "    _id = ObjectId(per_id)\n",
    "\n",
    "    address = address.copy()\n",
    "    address[\"owner_id\"] = _id\n",
    "\n",
    "    address_collection = miDB.address\n",
    "    address_collection.insert_one(address)\n",
    "\n",
    "add_address_relation('65dc9ec083484190e2657087', address)"
   ]
  }
 ],
 "metadata": {
  "kernelspec": {
   "display_name": "Python 3",
   "language": "python",
   "name": "python3"
  },
  "language_info": {
   "codemirror_mode": {
    "name": "ipython",
    "version": 3
   },
   "file_extension": ".py",
   "mimetype": "text/x-python",
   "name": "python",
   "nbconvert_exporter": "python",
   "pygments_lexer": "ipython3",
   "version": "3.10.12"
  }
 },
 "nbformat": 4,
 "nbformat_minor": 2
}
